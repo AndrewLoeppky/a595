{
 "cells": [
  {
   "cell_type": "markdown",
   "id": "a9475647",
   "metadata": {},
   "source": [
    "# Homework 8\n",
    "```\n",
    " ATSC 595D Atmospheric Dispersion Modeling -\n",
    " Homework exercise on 1-D advection, demonstrating PPM method from CMAQ.\n",
    " PPM is Piecewise Parabolic Method.  For details, see:\n",
    " Chapter 7 of the CMAQ Science Document:\n",
    "      https://www.cmascenter.org/cmaq/science_documentation/pdf/ch07.pdf\n",
    " and the journal paper by Colella and Woodward, 1984, J. Computational Physics,\n",
    "      vol 54, pages174-201.\n",
    " But the best documentation is the actual fortran code for the\n",
    "      horizontal advection subroutine \"hadv\" from\n",
    "      https://github.com/USEPA/CMAQ/archive/5.2.1.zip and look in this path:\n",
    "      CCTM/src/hadv/yamo/hppm.F .  This version was updated on March 2018.\n",
    " R. Stull - 18 Aug 2018\n",
    "\n",
    "\n",
    " In this HW, a 1-D pollutant puff being advected in the x-direction by a constant\n",
    " wind u.  The two schemes you will compare are\n",
    "   (a) FTBS - Forward in time, Backward in space;\n",
    "   (b) RK3 - Runga-Kutte 3rd order, and\n",
    "   (c) PPM - Piecewise Parabolic Method (from CMAQ).\n",
    "\n",
    "\n",
    " Create the grid and initial conditions\n",
    "\n",
    "imax = 1000             # number of grid points in x-direction\n",
    "delx = 100.             # horizontal grid spacing (m)\n",
    "delt = 10.              # time increment (s)\n",
    "u = 5.                  # horizontal wind speed (m/s)\n",
    "\n",
    "## 1) \n",
    "Calculate and display the Courant number.  You can display it in the graph in the question (3) if you would like.\n",
    "\n",
    "## 2) (a) \n",
    "\n",
    "Create initial concentration distribution in the x-direction\n",
    "conc <- rep(0.0, imax)   # initial concentration of background is zero\n",
    "cmax = 10.0             # max initial concentration\n",
    "conc[100:150] <- seq(0., cmax, len = 51)    # insert left side of triangle\n",
    "conc[150:200] <- seq(cmax, 0., len = 51)    # insert right side of triangle\n",
    "conc[20:40] <- seq(0., -0.5*cmax, len = 21)    # insert left side of triangle\n",
    "conc[40:60] <- seq(-0.5*cmax, 0., len = 21)    # insert right side of triangle\n",
    "\n",
    "##   (b) Plot the initial concentration distribution on a graph.\n",
    "\n",
    "## 3) \n",
    "\n",
    "Also, on the same plot, show the ideal exact final solution, as given by\n",
    "cideal <- rep(0.0, imax)   # initial concentration of ideal background is zero\n",
    "cideal[800:850] <- seq(0., cmax, len = 51)    # insert left side of triangle\n",
    "cideal[850:900] <- seq(cmax, 0., len = 51)    # insert right side of triangle\n",
    "cideal[720:740] <- seq(0., -0.5*cmax, len = 21)    # insert left side of triangle\n",
    "cideal[740:760] <- seq(-0.5*cmax, 0., len = 21)    # insert right side of triangle\n",
    "\n",
    " 4) Use \"forward in time, backward in space\" (FTBS) to advect concentration\n",
    " for the following number of time steps\n",
    "nsteps = (imax - 300) / (u * delt / delx) and plot the resulting concentration on the same graph.\n",
    "\n",
    "## 5) \n",
    "\n",
    "Repeat steps (2-4) to re-initialize, but plotting on a new graph, and using\n",
    " RK3 for the advection.  Use same number of time steps.\n",
    "\n",
    "## 6) \n",
    "\n",
    "Repeat steps (2-4) to re-initialize, but plotting on a new graph, and using\n",
    " CMAQ PPM for the advection.  Use same number of time steps.\n",
    " Here is a code fragment that shows the PPM algorithm for our simplified\n",
    " homework problem.  You can use or modify it to do this PPM exercise.\n",
    "\n",
    "## 7) Discuss and compare the results of these three advection schemes.\n",
    "```"
   ]
  },
  {
   "cell_type": "code",
   "execution_count": 1,
   "id": "5eebd45b",
   "metadata": {},
   "outputs": [],
   "source": [
    "import numpy as np\n",
    "import matplotlib.pyplot as plt"
   ]
  },
  {
   "cell_type": "code",
   "execution_count": 2,
   "id": "eba7ae3a",
   "metadata": {},
   "outputs": [],
   "source": [
    "# Create the grid and initial conditions\n",
    "\n",
    "imax = 1000             # number of grid points in x-direction\n",
    "delx = 100.             # horizontal grid spacing (m)\n",
    "delt = 10.              # time increment (s)\n",
    "u = 5.                  # horizontal wind speed (m/s)"
   ]
  },
  {
   "cell_type": "markdown",
   "id": "0ed3dfc6",
   "metadata": {},
   "source": [
    "## 1) \n",
    "\n",
    "Calculate and display the Courant number.  You can display it in the graph in the question (3) if you would like.\n",
    "\n",
    "\n",
    "*The courant number for advection, given on EPA/600/R-99/030 (page 30):*\n",
    "\n",
    "$$\n",
    "\\beta_{j + 1/2} = |u_{j+1/2}|\\frac{\\Delta t}{\\Delta x_j}\n",
    "$$\n",
    "\n",
    "*for constant wind and fixed timesteps:*"
   ]
  },
  {
   "cell_type": "code",
   "execution_count": 3,
   "id": "14ae450d",
   "metadata": {},
   "outputs": [
    {
     "name": "stdout",
     "output_type": "stream",
     "text": [
      "beta=0.5\n"
     ]
    }
   ],
   "source": [
    "beta = u * delt / delx\n",
    "print(f\"{beta=}\")"
   ]
  },
  {
   "cell_type": "markdown",
   "id": "7aad1573",
   "metadata": {},
   "source": [
    "## 2) (a) \n",
    "\n",
    "Create initial concentration distribution in the x-direction"
   ]
  },
  {
   "cell_type": "code",
   "execution_count": 4,
   "id": "55d00233",
   "metadata": {},
   "outputs": [],
   "source": [
    "conc = np.zeros(imax)   # initial concentration of background is zero\n",
    "cmax = 10.0             # max initial concentration\n",
    "conc[100:150] = np.linspace(0., cmax, 50)    # insert left side of triangle\n",
    "conc[150:200] = np.linspace(cmax, 0., 50)    # insert right side of triangle\n",
    "conc[20:40] = np.linspace(0., -0.5*cmax, 20)    # insert left side of triangle\n",
    "conc[40:60] = np.linspace(-0.5*cmax, 0., 20)    # insert right side of triangle"
   ]
  },
  {
   "cell_type": "markdown",
   "id": "c6674d71",
   "metadata": {},
   "source": [
    "##   (b) \n",
    "\n",
    "Plot the initial concentration distribution on a graph."
   ]
  },
  {
   "cell_type": "code",
   "execution_count": 5,
   "id": "b7b9edef",
   "metadata": {},
   "outputs": [
    {
     "data": {
      "image/png": "[encoded data removed]",
      "text/plain": [
       "<Figure size 1080x216 with 1 Axes>"
      ]
     },
     "metadata": {
      "needs_background": "light"
     },
     "output_type": "display_data"
    }
   ],
   "source": [
    "fig, ax = plt.subplots(figsize=(15,3))\n",
    "ax.set_xlabel(\"x (m * $\\Delta x$)\")\n",
    "ax.set_ylabel(\"Concentration (arbitrary units)\")\n",
    "ax.set_title(\"Initial Concentration Profile\")\n",
    "ax.plot(conc, \"k\", alpha=0.6);"
   ]
  },
  {
   "cell_type": "markdown",
   "id": "44dd993f",
   "metadata": {},
   "source": [
    "## 3) \n",
    "\n",
    "Also, on the same plot, show the ideal exact final solution, as given by"
   ]
  },
  {
   "cell_type": "code",
   "execution_count": 6,
   "id": "03897806",
   "metadata": {},
   "outputs": [],
   "source": [
    "cideal = np.zeros(imax)   # initial concentration of ideal background is zero\n",
    "cideal[800:850] = np.linspace(0., cmax, 50)    # insert left side of triangle\n",
    "cideal[850:900] = np.linspace(cmax, 0., 50)    # insert right side of triangle\n",
    "cideal[720:740] = np.linspace(0., -0.5*cmax, 20)    # insert left side of triangle\n",
    "cideal[740:760] = np.linspace(-0.5*cmax, 0., 20)    # insert right side of triangle"
   ]
  },
  {
   "cell_type": "code",
   "execution_count": 7,
   "id": "dcb21ee1",
   "metadata": {},
   "outputs": [
    {
     "data": {
      "image/png": "[encoded data removed]",
      "text/plain": [
       "<Figure size 1080x216 with 1 Axes>"
      ]
     },
     "metadata": {
      "needs_background": "light"
     },
     "output_type": "display_data"
    }
   ],
   "source": [
    "fig, ax = plt.subplots(figsize=(15,3))\n",
    "ax.set_xlabel(\"x (m * $\\Delta x$)\")\n",
    "ax.set_ylabel(\"Concentration (arbitrary units)\")\n",
    "ax.plot(conc, \"k\", alpha=0.6, label=\"Initial Profile\")\n",
    "ax.plot(cideal, \"r\", alpha=0.6, label=\"Exact Solution\")\n",
    "ax.legend();"
   ]
  },
  {
   "cell_type": "markdown",
   "id": "24bcf431",
   "metadata": {},
   "source": [
    "## 4) \n",
    "\n",
    "Use \"forward in time, backward in space\" (FTBS) to advect concentration for the following number of time steps\n",
    "\n",
    "`nsteps = (imax - 300) / (u * delt / delx)` and plot the resulting concentration on the same graph.\n",
    "\n",
    "*FTBS upwind scheme:*\n",
    "\n",
    "$$\n",
    "U_i^{n+1} = U_i^n - \\frac{u}{\\Delta t} (U_i^n - U_{i-1}^n)\n",
    "$$\n",
    "\n",
    "http://web.mit.edu/course/16/16.90/BackUp/www/pdfs/Chapter13.pdf"
   ]
  },
  {
   "cell_type": "code",
   "execution_count": 8,
   "id": "c10a99da",
   "metadata": {},
   "outputs": [],
   "source": [
    "nsteps = int((imax - 300) / (u * delt / delx))"
   ]
  },
  {
   "cell_type": "code",
   "execution_count": 9,
   "id": "6465806b",
   "metadata": {},
   "outputs": [],
   "source": [
    "def FTBS(U, u, delt):\n",
    "    \"\"\"\n",
    "    takes one timestep forward using the forward in \n",
    "    time, backward in space method\n",
    "    \n",
    "    IN: np array U (any variable), windspeed u (int/float), timestep delt\n",
    "    \n",
    "    OUT: np array U(n+1)\n",
    "    \"\"\"\n",
    "    # shift the input array backward one (space) step\n",
    "    U_minus = np.append(0,U[:-1])\n",
    "    # apply the FTBS scheme\n",
    "    U_out = U - (u / delt) * (U - U_minus)\n",
    "    \n",
    "    return U_out"
   ]
  },
  {
   "cell_type": "code",
   "execution_count": 10,
   "id": "8246987f",
   "metadata": {},
   "outputs": [],
   "source": [
    "def run_sim(scheme, nsteps, U, u, delt):\n",
    "    \"\"\"\n",
    "    runs an advection simulation\n",
    "    \n",
    "    IN: scheme (function) - advection scheme that steps forward one timestep\n",
    "                            should look like: scheme(U, u, delt)\n",
    "        nsteps (int)      - number of steps to iterate\n",
    "        U (float)         - variable field to advect\n",
    "        u (float)         - wind speed\n",
    "        delt (float)      - timestep\n",
    "    \n",
    "    OUT: U field after nsteps iterations\n",
    "    \"\"\"\n",
    "    for step in range(nsteps):\n",
    "        U = scheme(U, u, delt)\n",
    "    return U\n",
    "    "
   ]
  },
  {
   "cell_type": "code",
   "execution_count": 11,
   "id": "25c20896",
   "metadata": {},
   "outputs": [],
   "source": [
    "# run the sim for FTBS\n",
    "conc_FTBS = run_sim(FTBS, nsteps, conc, u, delt)"
   ]
  },
  {
   "cell_type": "code",
   "execution_count": 12,
   "id": "d2cbc7ce",
   "metadata": {},
   "outputs": [
    {
     "data": {
      "image/png": "[encoded data removed]",
      "text/plain": [
       "<Figure size 1080x216 with 1 Axes>"
      ]
     },
     "metadata": {
      "needs_background": "light"
     },
     "output_type": "display_data"
    }
   ],
   "source": [
    "# plot the result\n",
    "fig, ax = plt.subplots(figsize=(15,3))\n",
    "ax.set_xlabel(\"x (m * $\\Delta x$)\")\n",
    "ax.set_ylabel(\"Concentration (arbitrary units)\")\n",
    "ax.plot(conc_FTBS, \"g\", alpha=0.6, label=\"FTBS\")\n",
    "ax.plot(cideal, \"r\", alpha=0.6, label=\"Exact Solution\")\n",
    "ax.legend();"
   ]
  },
  {
   "cell_type": "markdown",
   "id": "ed9bbd16",
   "metadata": {},
   "source": [
    "## 5) \n",
    "\n",
    "Repeat steps (2-4) to re-initialize, but plotting on a new graph, and using\n",
    " RK3 for the advection.  Use same number of time steps.\n",
    "\n",
    "*RK3 scheme:*\n",
    "\n",
    "$$\n",
    "\n",
    "$$\n",
    " \n",
    "https://people.revoledu.com/kardi/tutorial/ODE/Runge%20Kutta%203.htm"
   ]
  },
  {
   "cell_type": "code",
   "execution_count": 13,
   "id": "93111ab1",
   "metadata": {},
   "outputs": [],
   "source": [
    "def RK3(U, u, delt):\n",
    "    \"\"\"\n",
    "    takes one timestep forward using 3rd order Runge Kutta\n",
    "    \n",
    "    IN: np array U (any variable), windspeed u (int/float), timestep delt\n",
    "    \n",
    "    OUT: np array U(n+1)\n",
    "    \"\"\"\n",
    "    # shift the array forward to (i+1)th position\n",
    "    U_plus = np.append(U[1:], 0)\n",
    "    # this doesnt work\n",
    "    U_out = U + u * delt\n",
    "    return U_out"
   ]
  },
  {
   "cell_type": "code",
   "execution_count": 14,
   "id": "b1d8e95a",
   "metadata": {},
   "outputs": [],
   "source": [
    "# run the sim for RK3\n",
    "conc_FTBS = run_sim(RK3, nsteps, conc, u, delt)"
   ]
  },
  {
   "cell_type": "code",
   "execution_count": 15,
   "id": "1ea239ff",
   "metadata": {},
   "outputs": [
    {
     "data": {
      "image/png": "[encoded data removed]",
      "text/plain": [
       "<Figure size 1080x216 with 1 Axes>"
      ]
     },
     "metadata": {
      "needs_background": "light"
     },
     "output_type": "display_data"
    }
   ],
   "source": [
    "# plot the result\n",
    "fig, ax = plt.subplots(figsize=(15,3))\n",
    "ax.set_xlabel(\"x (m * $\\Delta x$)\")\n",
    "ax.set_ylabel(\"Concentration (arbitrary units)\")\n",
    "ax.plot(conc_FTBS, \"g\", alpha=0.6, label=\"RK3\")\n",
    "ax.plot(cideal, \"r\", alpha=0.6, label=\"Exact Solution\")\n",
    "ax.legend();"
   ]
  },
  {
   "cell_type": "code",
   "execution_count": null,
   "id": "a45ca4aa",
   "metadata": {},
   "outputs": [],
   "source": []
  }
 ],
 "metadata": {
  "kernelspec": {
   "display_name": "Python 3 (ipykernel)",
   "language": "python",
   "name": "python3"
  },
  "language_info": {
   "codemirror_mode": {
    "name": "ipython",
    "version": 3
   },
   "file_extension": ".py",
   "mimetype": "text/x-python",
   "name": "python",
   "nbconvert_exporter": "python",
   "pygments_lexer": "ipython3",
   "version": "3.9.7"
  }
 },
 "nbformat": 4,
 "nbformat_minor": 5
}
