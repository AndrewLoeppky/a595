{
 "cells": [
  {
   "cell_type": "markdown",
   "id": "ba7da6ad",
   "metadata": {},
   "source": [
    "# Ozone simulation\n",
    "\n",
    "ATSC 595"
   ]
  },
  {
   "cell_type": "code",
   "execution_count": 1,
   "id": "b1a46576",
   "metadata": {},
   "outputs": [],
   "source": [
    "import numpy as np\n",
    "import pandas as pd\n",
    "import matplotlib.pyplot as plt\n",
    "from numba import jit\n",
    "\n",
    "from IPython.display import clear_output"
   ]
  },
  {
   "cell_type": "code",
   "execution_count": 2,
   "id": "11fe5756",
   "metadata": {},
   "outputs": [],
   "source": [
    "##################################################################\n",
    "# initialize each species\n",
    "initconcs = {\n",
    "    \"CO\": 2.5e12,  # molecules / cm^3\n",
    "    \"HO2\": 0.0,  # molecules / cm^3\n",
    "    \"NO\": 1.25e12,  # molecules / cm^3\n",
    "    \"NO2\": 1.25e11,  # molecules / cm^3\n",
    "    \"O1D\": 0.0,  # molecules / cm^3\n",
    "    \"O3\": 0.0,  # molecules / cm^3\n",
    "    \"OH\": 0.0,  # molecules / cm^3\n",
    "    # \"H2O\":2.5e15    # molecules / cm^3  which is 0.01% of the air at sea level\n",
    "}\n",
    "\n",
    "##################################################################\n",
    "# initialize rate constants (treat H2O conc as a constant)\n",
    "j01 = (1.0e-3,)  # (units 1/s) for {01'}  NO2 + h·nu -> NO + O3\n",
    "k03 = (1.73e-15,)  # (units (s · molecules/cm^3)^-1 ) for {03}   O3 + NO -> (O2) + NO2\n",
    "j09 = (1.0e-6,)  # (units 1/s) for {09}   O3 + h·nu -> (O2) + O1D\n",
    "k11 = 2.14e-10  # (units (s · molecules/cm^3)^-1 ) for {11} O1D + H2O -> 2 OH\n",
    "k25 = (8.54e-12,)  # (units (s · molecules/cm^3)^-1 ) for {25} HO2 + NO -> OH + NO2\n",
    "k123 = (2.28e-14,)  # units (s · molecules/cm^3)^-1 for {123} OH +CO +(O2)-> HO2 + (CO2)\n",
    "H2O = 2.5e15  # molecules / cm^3  which is 0.01% of the air at sea level\n",
    "\n",
    "####################################################################\n",
    "# Time step info\n",
    "delt_s = 0.0001  # time step (s) for your iterations\n",
    "tend_h = 2.0  # duration of forecast (hours)\n",
    "tsave_m = 2.0  # how often (minutes) to save results to plot\n",
    "\n",
    "# convert everything to seconds\n",
    "tend = tend_h * 3600\n",
    "tsave = tsave_m * 60\n",
    "delt = delt_s\n",
    "\n",
    "# tiny sim for testing code\n",
    "tend = 1\n",
    "tsave = 0.1\n",
    "delt = 0.0001"
   ]
  },
  {
   "cell_type": "code",
   "execution_count": 3,
   "id": "b8f426e2",
   "metadata": {},
   "outputs": [],
   "source": [
    "@jit\n",
    "def init(c0, tend, tsave):\n",
    "    \"\"\"\n",
    "    concs:\n",
    "        initializes a dataframe with columns for each chemical species,\n",
    "        sets the first row to the specified initial concentrations c0\n",
    "        \n",
    "    initconcs:\n",
    "        creates a 1-row dataframe to pass to loop fcn, same cols as concs\n",
    "    \"\"\"\n",
    "    time = np.arange(0, tend, tsave) # timesteps to save\n",
    "    \n",
    "    # create the master dataframe\n",
    "    tseries = pd.DataFrame(columns=c0.keys(), index=time)\n",
    "    \n",
    "    # create mini dataframe to pass into loop\n",
    "    initconcs = pd.DataFrame(columns=c0.keys(), index=[\"Concentration\"])\n",
    "    \n",
    "    # fill first row with initial concentrations\n",
    "    concs = np.fromiter(c0.values(), dtype=float)\n",
    "    tseries.loc[time[0]] = concs\n",
    "    initconcs.iloc[0] = concs\n",
    "    \n",
    "    return tseries, initconcs"
   ]
  },
  {
   "cell_type": "code",
   "execution_count": 4,
   "id": "7fc43e82",
   "metadata": {},
   "outputs": [],
   "source": [
    "@jit\n",
    "def step_fwd(c_old, delt):\n",
    "    \"\"\"\n",
    "    this function holds all of the combined prod/loss equations\n",
    "\n",
    "\n",
    "    \"\"\"\n",
    "    c_new = c_old\n",
    "\n",
    "    c_new[\"CO\"] += -(k123 * c_old[\"OH\"] * c_old[\"CO\"]) * delt\n",
    "    c_new[\"HO2\"] += (\n",
    "        k123 * c_old[\"OH\"] * c_old[\"CO\"] - k25 * c_old[\"HO2\"] * c_old[\"NO2\"]\n",
    "    ) * delt\n",
    "    c_new[\"NO\"] += (\n",
    "        (j01 * c_old[\"NO2\"])\n",
    "        - (k03 * c_old[\"O3\"] * c_old[\"NO\"])\n",
    "        - (k25 * c_old[\"HO2\"] * c_old[\"NO2\"])\n",
    "    ) * delt\n",
    "    c_new[\"NO2\"] += (\n",
    "        -(j01 * c_old[\"NO2\"])\n",
    "        + (k03 * c_old[\"O3\"] * c_old[\"NO\"])\n",
    "        + (k25 * c_old[\"HO2\"] * c_old[\"NO2\"])\n",
    "    ) * delt\n",
    "    c_new[\"O1D\"] += ((j09 * c_old[\"O3\"]) - (k11 * c_old[\"O1D\"] * H2O)) * delt\n",
    "    c_new[\"O3\"] += (\n",
    "        (j01 * c_old[\"NO2\"]) - (k03 * c_old[\"O3\"] * c_old[\"NO\"]) - (j09 * c_old[\"O3\"])\n",
    "    ) * delt\n",
    "    c_new[\"OH\"] += (\n",
    "        ((2 * k11 * H2O) * c_old[\"O1D\"])\n",
    "        + (k25 * c_old[\"HO2\"] * c_old[\"NO2\"])\n",
    "        - (k123 * c_old[\"OH\"] * c_old[\"CO\"])\n",
    "    )\n",
    "\n",
    "    # take all negative concentrations to zero\n",
    "    c_new[c_new < 0] = 0\n",
    "\n",
    "    return c_new"
   ]
  },
  {
   "cell_type": "code",
   "execution_count": 5,
   "id": "815fe56f",
   "metadata": {},
   "outputs": [],
   "source": [
    "# toy simulation\n",
    "save_concs, concs = init(initconcs, tend, tsave)"
   ]
  },
  {
   "cell_type": "code",
   "execution_count": 6,
   "id": "5cd27a73",
   "metadata": {},
   "outputs": [
    {
     "data": {
      "image/png": "[encoded data removed]",
      "text/plain": [
       "<Figure size 432x288 with 1 Axes>"
      ]
     },
     "metadata": {
      "needs_background": "light"
     },
     "output_type": "display_data"
    }
   ],
   "source": [
    "# execute this cell as many times as you like to manually step the simulation forward\n",
    "step_fwd(concs, delt)\n",
    "fig, ax = plt.subplots()\n",
    "ax.set_yscale('log')\n",
    "ax.set_xticks(ticks=[])\n",
    "concs.plot(kind=\"bar\", ax=ax);"
   ]
  },
  {
   "cell_type": "code",
   "execution_count": 9,
   "id": "8d534315",
   "metadata": {},
   "outputs": [],
   "source": [
    "# full simulation (as spec'd by time step info in cell 1)\n",
    "@jit\n",
    "def do_sim(initconcs, tend, delt, tsave):\n",
    "    \"\"\"\n",
    "    runs simulation\n",
    "    \"\"\"\n",
    "    tseries, concs = init(initconcs, tend, tsave)\n",
    "    for T in tseries.index[1:]:\n",
    "        clear_output()\n",
    "        print(f\"Simulating: {round(T / tend * 100, 3)}%\")\n",
    "        for t in np.arange(0, tsave, delt):\n",
    "            concs = step_fwd(concs, delt)\n",
    "        #print(f\"concs at {T} seconds: {concs.values[0]}\")\n",
    "        tseries.loc[T] = concs.values[0]\n",
    "    clear_output()\n",
    "    print(\"Simulation complete\")\n",
    "    return tseries\n"
   ]
  },
  {
   "cell_type": "code",
   "execution_count": null,
   "id": "ca9dedbc",
   "metadata": {},
   "outputs": [
    {
     "name": "stdout",
     "output_type": "stream",
     "text": [
      "Simulating: 80.0%\n"
     ]
    }
   ],
   "source": [
    "tseries = do_sim(initconcs, tend, delt, tsave)\n",
    "# show the result:\n",
    "tseries"
   ]
  }
 ],
 "metadata": {
  "kernelspec": {
   "display_name": "Python 3 (ipykernel)",
   "language": "python",
   "name": "python3"
  },
  "language_info": {
   "codemirror_mode": {
    "name": "ipython",
    "version": 3
   },
   "file_extension": ".py",
   "mimetype": "text/x-python",
   "name": "python",
   "nbconvert_exporter": "python",
   "pygments_lexer": "ipython3",
   "version": "3.9.7"
  }
 },
 "nbformat": 4,
 "nbformat_minor": 5
}
