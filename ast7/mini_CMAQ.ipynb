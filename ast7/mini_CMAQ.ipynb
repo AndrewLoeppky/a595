{
 "cells": [
  {
   "cell_type": "markdown",
   "id": "ba7da6ad",
   "metadata": {},
   "source": [
    "# Assignment 7\n",
    "\n",
    "Andrew Loeppky\n",
    "\n",
    "ATSC 595 - Dr. R. Stull\n",
    "\n",
    "Fall 2021"
   ]
  },
  {
   "cell_type": "markdown",
   "id": "abf9bc70",
   "metadata": {},
   "source": [
    "### Part A(1)\n",
    "\n",
    "For each chemical reaction { } listed above, how many eqs apply, and what is the resulting total number of equations?\n",
    "\n",
    "**{01'}** 1 R definition, 3 rate eqs = 4 equations\n",
    "\n",
    "\n",
    "**{03}** 1 R definition, 3 rate eqs = 4 equations\n",
    "\n",
    "\n",
    "**{09}** 1 R def, 2 rate eqs = 3 equations\n",
    "\n",
    "\n",
    "**{11}** 1 R def, 2 rate eqs = 3 equations\n",
    "\n",
    "\n",
    "**{25}** 1 R def, 4 rate eqs = 5 equations\n",
    "\n",
    "\n",
    "**{123}** 1 R def, 3 rate eqs = 4 equations\n",
    "\n",
    "\n",
    "**Total** = 23"
   ]
  },
  {
   "cell_type": "markdown",
   "id": "6add02fd",
   "metadata": {},
   "source": [
    "### Part A(2) \n",
    "\n",
    "For each one of the 7 chemicals that we want to forecast, how many R production/loss terms apply?\n",
    "\n",
    "$CO$ - 0 prod, 1 loss\n",
    "\n",
    "$HO_2$ - 1 prod, 1 loss\n",
    "\n",
    "$NO$ - 1 prod, 2 loss\n",
    "\n",
    "$NO_2$ - 2 prod, 1 loss\n",
    "\n",
    "$O_{1D}$ - 1 prod, 1 loss\n",
    "\n",
    "$O_3$ - 1 prod, 2 loss\n",
    "\n",
    "$OH$ - 2 prod, 1 loss\n"
   ]
  },
  {
   "cell_type": "markdown",
   "id": "838c5a78",
   "metadata": {},
   "source": [
    "### Part B\n",
    "\n",
    "Write all of the reaction eqs (similar to {25.0 to 25.4} shown above).\n",
    "But don't include reaction eqs for items in parenthesis ( ), or for\n",
    "any variable we assume is constant.\n",
    "\n",
    "#### Equation {01'}\n",
    "\n",
    "$$\n",
    "R_{01} = j_{01}[NO_2]\\tag{01.0}\n",
    "$$\n",
    "\n",
    "$$\n",
    "\\dot{[NO_2]} = -R_{01}\\tag{01.1}\n",
    "$$\n",
    "\n",
    "$$\n",
    "\\dot{[NO]} = R_{01}\\tag{01.2}\n",
    "$$\n",
    "\n",
    "$$\n",
    "\\dot{[O_3]} = R_{01}\\tag{01.3}\n",
    "$$\n",
    "\n",
    "#### Equation {03}\n",
    "\n",
    "$$\n",
    "R_{03} = k_{03}[0_3][NO]\\tag{03.0}\n",
    "$$\n",
    "\n",
    "$$\n",
    "\\dot{[O_3]} = -R_{03}\\tag{03.1}\n",
    "$$\n",
    "\n",
    "$$\n",
    "\\dot{[NO]} = -R_{03}\\tag{03.2}\n",
    "$$\n",
    "\n",
    "$$\n",
    "\\dot{[NO_2]} = R_{03}\\tag{03.3}\n",
    "$$\n",
    "\n",
    "#### Equation {09}\n",
    "\n",
    "$$\n",
    "R_{09} = j_{09}[O_3]\\tag{09.0}\n",
    "$$\n",
    "\n",
    "$$\n",
    "\\dot{[O_3]} = -R_{09}\\tag{09.1}\n",
    "$$\n",
    "\n",
    "$$\n",
    "\\dot{[O_{1D}]} = R_{09}\\tag{09.2}\n",
    "$$\n",
    "\n",
    "#### Equation {11}\n",
    "\n",
    "$$\n",
    "R_{11} = k_{11}[O_{1D}][H_2O]\\tag{11.0}\n",
    "$$\n",
    "\n",
    "$$\n",
    "\\dot{[O_{1D}]} = -R_{11}\\tag{11.1}\n",
    "$$\n",
    "\n",
    "$$\n",
    "\\dot{[OH]} = 2R_{11}\\tag{11.2}\n",
    "$$\n",
    "\n",
    "#### Equation {25}\n",
    "\n",
    "$$\n",
    "R_{25} = k_{25}[H_2O][NO_2]\\tag{25.0}\n",
    "$$\n",
    "\n",
    "$$\n",
    "\\dot{[OH]} = R_{25}\\tag{25.1}\n",
    "$$\n",
    "\n",
    "$$\n",
    "\\dot{[NO_2]} = R_{25}\\tag{25.2}\n",
    "$$\n",
    "\n",
    "$$\n",
    "\\dot{[HO_2]} = -R_{25}\\tag{25.3}\n",
    "$$\n",
    "\n",
    "$$\n",
    "\\dot{[NO]} = -R_{25}\\tag{25.4}\n",
    "$$\n",
    "\n",
    "#### Equation {123}\n",
    "\n",
    "$$\n",
    "R_{123} = k_{123}[OH][CO]\\tag{123.0}\n",
    "$$\n",
    "\n",
    "$$\n",
    "\\dot{[OH]} = -R_{123}\\tag{123.1}\n",
    "$$\n",
    "\n",
    "$$\n",
    "\\dot{[CO]} = - R_{123}\\tag{123.2}\n",
    "$$\n",
    "\n",
    "$$\n",
    "\\dot{[HO_2]} = R_{123}\\tag{123.3}\n",
    "$$"
   ]
  },
  {
   "cell_type": "markdown",
   "id": "c428d905",
   "metadata": {},
   "source": [
    "### Part C\n",
    "\n",
    "In your favorite programming language, write into your computer\n",
    "program the finite difference form of the forecast eqs for each\n",
    "of the 7 chemicals of interest."
   ]
  },
  {
   "cell_type": "code",
   "execution_count": 34,
   "id": "b1a46576",
   "metadata": {},
   "outputs": [],
   "source": [
    "import numpy as np\n",
    "import pandas as pd\n",
    "import matplotlib.pyplot as plt\n",
    "from numba import jit\n",
    "\n",
    "from IPython.display import clear_output"
   ]
  },
  {
   "cell_type": "code",
   "execution_count": 41,
   "id": "11fe5756",
   "metadata": {},
   "outputs": [],
   "source": [
    "##################################################################\n",
    "### assign numpy indices\n",
    "# CO  -> 0\n",
    "# HO2 -> 1\n",
    "# NO  -> 2\n",
    "# NO2 -> 3\n",
    "# O1D -> 4\n",
    "# O3  -> 5\n",
    "# OH  -> 6\n",
    "\n",
    "# initialize each species\n",
    "initconcs = np.array([2.5e12, 0.0, 1.25e12, 1.25e11, 0.0, 0.0, 0.0])\n",
    "\n",
    "##################################################################\n",
    "# initialize rate constants (treat H2O conc as a constant)\n",
    "j01 = 1.0e-3  # (units 1/s) for {01'}  NO2 + h·nu -> NO + O3\n",
    "k03 = 1.73e-15  # (units (s · molecules/cm^3)^-1 ) for {03}   O3 + NO -> (O2) + NO2\n",
    "j09 = 1.0e-6  # (units 1/s) for {09}   O3 + h·nu -> (O2) + O1D\n",
    "k11 = 2.14e-10  # (units (s · molecules/cm^3)^-1 ) for {11} O1D + H2O -> 2 OH\n",
    "k25 = 8.54e-12  # (units (s · molecules/cm^3)^-1 ) for {25} HO2 + NO -> OH + NO2\n",
    "k123 = 2.28e-14  # units (s · molecules/cm^3)^-1 for {123} OH +CO +(O2)-> HO2 + (CO2)\n",
    "H2O = 2.5e15  # molecules / cm^3  which is 0.01% of the air at sea level\n",
    "\n",
    "####################################################################\n",
    "# Time step info\n",
    "delt_s = 0.0001  # time step (s) for your iterations\n",
    "tend_h = 2.0  # duration of forecast (hours)\n",
    "tsave_m = 2.0  # how often (minutes) to save results to plot\n",
    "\n",
    "# convert everything to seconds\n",
    "tend = tend_h * 3600\n",
    "tsave = tsave_m * 60\n",
    "delt = delt_s\n",
    "\n",
    "# tiny sim for testing code\n",
    "#tend = 1\n",
    "#tsave = 0.1\n",
    "#delt = 0.0001"
   ]
  },
  {
   "cell_type": "code",
   "execution_count": 51,
   "id": "b8f426e2",
   "metadata": {},
   "outputs": [],
   "source": [
    "@jit\n",
    "def init(c0, tend, tsave):\n",
    "    \"\"\"\n",
    "    concs:\n",
    "        initializes a dataframe with columns for each chemical species,\n",
    "        sets the first row to the specified initial concentrations c0\n",
    "        \n",
    "    initconcs:\n",
    "        creates a 1-row array of c0 to pass to loop\n",
    "    \"\"\"\n",
    "    time = np.arange(0, tend, tsave) # timesteps to save\n",
    "    \n",
    "    # create the master dataframe\n",
    "    tseries = pd.DataFrame(columns=[\"CO\", \"HO2\", \"NO\", \"NO2\", \"O1D\", \"O3\", \"OH\"], index=time)\n",
    "    \n",
    "    # fill first row with initial concentrations\n",
    "    tseries.loc[time[0]] = c0\n",
    "    \n",
    "    return tseries, initconcs"
   ]
  },
  {
   "cell_type": "markdown",
   "id": "655c2d59",
   "metadata": {},
   "source": [
    "#### Equations for combined production/loss of each species\n",
    "\n",
    "$$\n",
    "R_{CO} = -R_{123}\n",
    "$$\n",
    "\n",
    "$$\n",
    "R_{HO2} = R_{123} - R_{25}\n",
    "$$\n",
    "\n",
    "$$\n",
    "R_{NO} = R_{01} - R_{03} - R_{25}\n",
    "$$\n",
    "\n",
    "$$\n",
    "R_{NO2} = -R_{01} + R_{03} + R_{25}\n",
    "$$\n",
    "\n",
    "$$\n",
    "R_{O1D} = R_{09} - R_{11}\n",
    "$$\n",
    "\n",
    "$$\n",
    "R_{O3} = R_{01} - R_{03} - R_{09} \n",
    "$$\n",
    "\n",
    "$$\n",
    "R_{OH} = 2R_{11} + R_{25} - R_{123}\n",
    "$$"
   ]
  },
  {
   "cell_type": "code",
   "execution_count": 43,
   "id": "7fc43e82",
   "metadata": {},
   "outputs": [],
   "source": [
    "@jit\n",
    "def step_fwd(c_old, delt):\n",
    "    \"\"\"\n",
    "    this function holds all of the combined prod/loss equations\n",
    "    \"\"\"\n",
    "    c_new = c_old\n",
    "    \n",
    "    # write out derivatives of each species as the sum of each relevant R value\n",
    "    # this is a painful way to express the equations but it runs FAST\n",
    "    c_new[0] += -(k123 * c_old[6] * c_old[0]) * delt\n",
    "    c_new[1] += (k123 * c_old[6] * c_old[0] - k25 * c_old[1] * c_old[3]) * delt\n",
    "    c_new[2] += ((j01 * c_old[3]) - (k03 * c_old[5] * c_old[2]) - (k25 * c_old[1] * c_old[3])) * delt\n",
    "    c_new[3] += (-(j01 * c_old[3]) + (k03 * c_old[5] * c_old[2]) + (k25 * c_old[1] * c_old[3])) * delt\n",
    "    c_new[4] += ((j09 * c_old[5]) - (k11 * c_old[4] * H2O)) * delt\n",
    "    c_new[5] += ((j01 * c_old[3]) - (k03 * c_old[5] * c_old[2]) - (j09 * c_old[5])) * delt\n",
    "    c_new[6] += (((2 * k11 * H2O) * c_old[4]) + (k25 * c_old[1] * c_old[3]) - (k123 * c_old[6] * c_old[0]))\n",
    "\n",
    "    # take all negative concentrations to zero\n",
    "    c_new[c_new < 0] = 0\n",
    "\n",
    "    return c_new"
   ]
  },
  {
   "cell_type": "code",
   "execution_count": 90,
   "id": "815fe56f",
   "metadata": {},
   "outputs": [],
   "source": [
    "# toy simulation\n",
    "toy_saved_concs, toy_concs = init(initconcs, tend, tsave)"
   ]
  },
  {
   "cell_type": "code",
   "execution_count": 129,
   "id": "5cd27a73",
   "metadata": {},
   "outputs": [
    {
     "name": "stdout",
     "output_type": "stream",
     "text": [
      "[2.49917565e+12 1.64728653e+05 1.28830646e+12 8.66935408e+10\n",
      " 3.88679736e+00 3.88679736e+10 4.28083215e+06]\n"
     ]
    },
    {
     "data": {
      "image/png": "[encoded data removed]",
      "text/plain": [
       "<Figure size 432x288 with 1 Axes>"
      ]
     },
     "metadata": {
      "needs_background": "light"
     },
     "output_type": "display_data"
    }
   ],
   "source": [
    "# execute this cell as many times as you like to manually step the simulation forward\n",
    "toy_concs = step_fwd(toy_concs, delt)\n",
    "plt.bar([\"CO\", \"HO2\", \"NO\", \"NO2\", \"O1D\", \"O3\", \"OH\"], toy_concs)\n",
    "plt.yscale(\"log\")\n",
    "print(toy_concs)"
   ]
  },
  {
   "cell_type": "code",
   "execution_count": 117,
   "id": "8d534315",
   "metadata": {},
   "outputs": [],
   "source": [
    "@jit\n",
    "def do_sim(initconcs, tend, delt, tsave):\n",
    "    \"\"\"\n",
    "    runs simulation\n",
    "    \"\"\"\n",
    "    save_concs, concs = init(initconcs, tend, tsave)\n",
    "    for T in save_concs.index[1:]:\n",
    "        clear_output()\n",
    "        print(f\"Simulating: {round(T / tend * 100, 3)}%\")\n",
    "        for t in np.arange(0, tsave, delt):\n",
    "            concs = step_fwd(concs, delt)\n",
    "        #print(f\"concs at {T} seconds: {concs.values[0]}\")\n",
    "        save_concs.loc[T] = concs\n",
    "    clear_output()\n",
    "    print(\"Simulation complete\")\n",
    "    return save_concs"
   ]
  },
  {
   "cell_type": "markdown",
   "id": "6c4f1911",
   "metadata": {},
   "source": [
    "### Part D \n",
    "\n",
    "Iterate your eqs forward in time on the computer, using the initial conditions IC and specifications given below."
   ]
  },
  {
   "cell_type": "code",
   "execution_count": 45,
   "id": "ca9dedbc",
   "metadata": {},
   "outputs": [
    {
     "name": "stdout",
     "output_type": "stream",
     "text": [
      "Simulation complete\n"
     ]
    }
   ],
   "source": [
    "# full simulation (as spec'd by time step info in cell 1)\n",
    "concs_out = do_sim(initconcs, tend, delt, tsave)"
   ]
  },
  {
   "cell_type": "markdown",
   "id": "56355aae",
   "metadata": {},
   "source": [
    "### Part E(a)\n",
    "\n",
    "Using your output saved from D, convert the concentrations of the following 4 variables from $c$ (molecules/cm$^3$) to mixing ratio $q$ (ppm) using the following approximate formula:\n",
    "\n",
    "$$\n",
    "q \\text{ (ppm)} = c\\text{ (molecules/cm}^3\\text{)} \\cdot (4.0e-14)\n",
    "$$"
   ]
  },
  {
   "cell_type": "code",
   "execution_count": 136,
   "id": "f86ea3a4",
   "metadata": {},
   "outputs": [],
   "source": [
    "concs_ppm = concs_out * 4e-14"
   ]
  },
  {
   "cell_type": "markdown",
   "id": "28dce5ac",
   "metadata": {},
   "source": [
    "### Part E(b)\n",
    "\n",
    "Plot on the same one graph the following 4 concentration curves in units of ppm:  ppm_CO, ppm_NO, ppm_NO2, ppm_O3\n",
    " versus time in hours.  (Plot them only at intervals as given below\n",
    " in the specs. "
   ]
  },
  {
   "cell_type": "code",
   "execution_count": 137,
   "id": "58530bcf",
   "metadata": {},
   "outputs": [
    {
     "data": {
      "image/png": "[encoded data removed]",
      "text/plain": [
       "<Figure size 1080x864 with 7 Axes>"
      ]
     },
     "metadata": {
      "needs_background": "light"
     },
     "output_type": "display_data"
    }
   ],
   "source": [
    "concs_ppm.plot(figsize=(15,12), subplots=True, xlabel=\"time (s)\");"
   ]
  },
  {
   "cell_type": "markdown",
   "id": "5dcdfb77",
   "metadata": {},
   "source": [
    "### Part F\n",
    "\n",
    "Discuss the significance of your results from E.\n",
    "\n",
    "*is this working correctly?*"
   ]
  }
 ],
 "metadata": {
  "kernelspec": {
   "display_name": "Python 3 (ipykernel)",
   "language": "python",
   "name": "python3"
  },
  "language_info": {
   "codemirror_mode": {
    "name": "ipython",
    "version": 3
   },
   "file_extension": ".py",
   "mimetype": "text/x-python",
   "name": "python",
   "nbconvert_exporter": "python",
   "pygments_lexer": "ipython3",
   "version": "3.9.7"
  }
 },
 "nbformat": 4,
 "nbformat_minor": 5
}
