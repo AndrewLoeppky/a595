{
 "cells": [
  {
   "cell_type": "markdown",
   "id": "ba7da6ad",
   "metadata": {},
   "source": [
    "# Ozone simulation\n",
    "\n",
    "ATSC 595"
   ]
  },
  {
   "cell_type": "code",
   "execution_count": 1,
   "id": "b1a46576",
   "metadata": {},
   "outputs": [],
   "source": [
    "import numpy as np\n",
    "import pandas as pd\n",
    "import matplotlib.pyplot as plt\n",
    "from numba import jit\n",
    "\n",
    "from IPython.display import clear_output"
   ]
  },
  {
   "cell_type": "code",
   "execution_count": 2,
   "id": "11fe5756",
   "metadata": {},
   "outputs": [],
   "source": [
    "##################################################################\n",
    "# initialize each species\n",
    "initconcs = {\n",
    "    \"CO\": 2.5e12,  # molecules / cm^3\n",
    "    \"HO2\": 0.0,  # molecules / cm^3\n",
    "    \"NO\": 1.25e12,  # molecules / cm^3\n",
    "    \"NO2\": 1.25e11,  # molecules / cm^3\n",
    "    \"O1D\": 0.0,  # molecules / cm^3\n",
    "    \"O3\": 0.0,  # molecules / cm^3\n",
    "    \"OH\": 0.0,  # molecules / cm^3\n",
    "    # \"H2O\":2.5e15    # molecules / cm^3  which is 0.01% of the air at sea level\n",
    "}\n",
    "### assign numpy indices\n",
    "# CO  -> 0\n",
    "# HO2 -> 1\n",
    "# NO  -> 2\n",
    "# NO2 -> 3\n",
    "# O1D -> 4\n",
    "# O3  -> 5\n",
    "# OH  -> 6\n",
    "\n",
    "initconcs = np.array([2.5e12, 0.0, 1.25e12, 1.25e11, 0.0, 0.0, 0.0])\n",
    "\n",
    "##################################################################\n",
    "# initialize rate constants (treat H2O conc as a constant)\n",
    "j01 = 1.0e-3  # (units 1/s) for {01'}  NO2 + h·nu -> NO + O3\n",
    "k03 = 1.73e-15  # (units (s · molecules/cm^3)^-1 ) for {03}   O3 + NO -> (O2) + NO2\n",
    "j09 = 1.0e-6  # (units 1/s) for {09}   O3 + h·nu -> (O2) + O1D\n",
    "k11 = 2.14e-10  # (units (s · molecules/cm^3)^-1 ) for {11} O1D + H2O -> 2 OH\n",
    "k25 = 8.54e-12  # (units (s · molecules/cm^3)^-1 ) for {25} HO2 + NO -> OH + NO2\n",
    "k123 = 2.28e-14  # units (s · molecules/cm^3)^-1 for {123} OH +CO +(O2)-> HO2 + (CO2)\n",
    "H2O = 2.5e15  # molecules / cm^3  which is 0.01% of the air at sea level\n",
    "\n",
    "####################################################################\n",
    "# Time step info\n",
    "delt_s = 0.0001  # time step (s) for your iterations\n",
    "tend_h = 2.0  # duration of forecast (hours)\n",
    "tsave_m = 2.0  # how often (minutes) to save results to plot\n",
    "\n",
    "# convert everything to seconds\n",
    "tend = tend_h * 3600\n",
    "tsave = tsave_m * 60\n",
    "delt = delt_s\n",
    "\n",
    "# tiny sim for testing code\n",
    "#tend = 1\n",
    "#tsave = 0.1\n",
    "#delt = 0.0001"
   ]
  },
  {
   "cell_type": "code",
   "execution_count": 3,
   "id": "b8f426e2",
   "metadata": {},
   "outputs": [],
   "source": [
    "@jit\n",
    "def init(c0, tend, tsave):\n",
    "    \"\"\"\n",
    "    concs:\n",
    "        initializes a dataframe with columns for each chemical species,\n",
    "        sets the first row to the specified initial concentrations c0\n",
    "        \n",
    "    initconcs:\n",
    "        creates a 1-row dataframe to pass to loop fcn, same cols as concs\n",
    "    \"\"\"\n",
    "    time = np.arange(0, tend, tsave) # timesteps to save\n",
    "    \n",
    "    # create the master dataframe\n",
    "    tseries = pd.DataFrame(columns=[\"CO\", \"HO2\", \"NO\", \"NO2\", \"O1D\", \"O3\", \"OH\"], index=time)\n",
    "    \n",
    "    # create mini dataframe to pass into loop\n",
    "    #initconcs = np.array()\n",
    "    \n",
    "    # fill first row with initial concentrations\n",
    "    concs = c0\n",
    "    tseries.loc[time[0]] = concs\n",
    "    #initconcs.iloc[0] = concs\n",
    "    \n",
    "    return tseries, initconcs"
   ]
  },
  {
   "cell_type": "code",
   "execution_count": 4,
   "id": "7fc43e82",
   "metadata": {},
   "outputs": [],
   "source": [
    "@jit\n",
    "def step_fwd(c_old, delt):\n",
    "    \"\"\"\n",
    "    this function holds all of the combined prod/loss equations\n",
    "    \"\"\"\n",
    "    c_new = c_old\n",
    "    \n",
    "    c_new[0] += -(k123 * c_old[6] * c_old[0]) * delt\n",
    "    c_new[1] += (\n",
    "        k123 * c_old[6] * c_old[0] - k25 * c_old[1] * c_old[3]\n",
    "    ) * delt\n",
    "    c_new[2] += (\n",
    "        (j01 * c_old[3])\n",
    "        - (k03 * c_old[5] * c_old[2])\n",
    "        - (k25 * c_old[1] * c_old[3])\n",
    "    ) * delt\n",
    "    c_new[3] += (\n",
    "        -(j01 * c_old[3])\n",
    "        + (k03 * c_old[5] * c_old[2])\n",
    "        + (k25 * c_old[1] * c_old[3])\n",
    "    ) * delt\n",
    "    c_new[4] += ((j09 * c_old[5]) - (k11 * c_old[4] * H2O)) * delt\n",
    "    c_new[5] += (\n",
    "        (j01 * c_old[3]) - (k03 * c_old[5] * c_old[2]) - (j09 * c_old[5])\n",
    "    ) * delt\n",
    "    c_new[6] += (\n",
    "        ((2 * k11 * H2O) * c_old[4])\n",
    "        + (k25 * c_old[1] * c_old[3])\n",
    "        - (k123 * c_old[6] * c_old[0])\n",
    "    )\n",
    "\n",
    "    # take all negative concentrations to zero\n",
    "    c_new[c_new < 0] = 0\n",
    "\n",
    "    return c_new"
   ]
  },
  {
   "cell_type": "code",
   "execution_count": 9,
   "id": "815fe56f",
   "metadata": {},
   "outputs": [],
   "source": [
    "# toy simulation\n",
    "save_concs, concs = init(initconcs, tend, tsave)"
   ]
  },
  {
   "cell_type": "code",
   "execution_count": 52,
   "id": "5cd27a73",
   "metadata": {},
   "outputs": [
    {
     "data": {
      "text/plain": [
       "array([2.49917565e+12, 1.64728653e+05, 1.28830646e+12, 8.66935407e+10,\n",
       "       3.88679736e+00, 3.88679736e+10, 4.28083214e+06])"
      ]
     },
     "execution_count": 52,
     "metadata": {},
     "output_type": "execute_result"
    }
   ],
   "source": [
    "# execute this cell as many times as you like to manually step the simulation forward\n",
    "c_new = step_fwd(concs, delt)\n",
    "c_new"
   ]
  },
  {
   "cell_type": "code",
   "execution_count": 7,
   "id": "8d534315",
   "metadata": {},
   "outputs": [],
   "source": [
    "# full simulation (as spec'd by time step info in cell 1)\n",
    "@jit\n",
    "def do_sim(initconcs, tend, delt, tsave):\n",
    "    \"\"\"\n",
    "    runs simulation\n",
    "    \"\"\"\n",
    "    save_concs, concs = init(initconcs, tend, tsave)\n",
    "    for T in tseries.index[1:]:\n",
    "        clear_output()\n",
    "        print(f\"Simulating: {round(T / tend * 100, 3)}%\")\n",
    "        for t in np.arange(0, tsave, delt):\n",
    "            concs = step_fwd(concs, delt)\n",
    "        #print(f\"concs at {T} seconds: {concs.values[0]}\")\n",
    "        save_concs.loc[T] = concs\n",
    "    clear_output()\n",
    "    print(\"Simulation complete\")\n",
    "    return tseries\n"
   ]
  },
  {
   "cell_type": "code",
   "execution_count": 53,
   "id": "ca9dedbc",
   "metadata": {},
   "outputs": [
    {
     "name": "stdout",
     "output_type": "stream",
     "text": [
      "Simulating: 5.0%\n"
     ]
    },
    {
     "ename": "SystemError",
     "evalue": "CPUDispatcher(<function step_fwd at 0x00000225FFAB2D30>) returned a result with an error set",
     "output_type": "error",
     "traceback": [
      "\u001b[1;31m---------------------------------------------------------------------------\u001b[0m",
      "\u001b[1;31mKeyboardInterrupt\u001b[0m                         Traceback (most recent call last)",
      "\u001b[1;32m~\\miniforge3\\envs\\disp\\lib\\site-packages\\numba\\core\\serialize.py\u001b[0m in \u001b[0;36m_numba_unpickle\u001b[1;34m(address, bytedata, hashed)\u001b[0m\n\u001b[0;32m     42\u001b[0m     \"\"\"\n\u001b[1;32m---> 43\u001b[1;33m     \u001b[0mkey\u001b[0m \u001b[1;33m=\u001b[0m \u001b[1;33m(\u001b[0m\u001b[0maddress\u001b[0m\u001b[1;33m,\u001b[0m \u001b[0mhashed\u001b[0m\u001b[1;33m)\u001b[0m\u001b[1;33m\u001b[0m\u001b[1;33m\u001b[0m\u001b[0m\n\u001b[0m\u001b[0;32m     44\u001b[0m     \u001b[1;32mtry\u001b[0m\u001b[1;33m:\u001b[0m\u001b[1;33m\u001b[0m\u001b[1;33m\u001b[0m\u001b[0m\n",
      "\u001b[1;31mKeyboardInterrupt\u001b[0m: ",
      "\nThe above exception was the direct cause of the following exception:\n",
      "\u001b[1;31mSystemError\u001b[0m                               Traceback (most recent call last)",
      "\u001b[1;32m~\\AppData\\Local\\Temp/ipykernel_4372/3014058990.py\u001b[0m in \u001b[0;36m<module>\u001b[1;34m\u001b[0m\n\u001b[1;32m----> 1\u001b[1;33m \u001b[0mtseries\u001b[0m \u001b[1;33m=\u001b[0m \u001b[0mdo_sim\u001b[0m\u001b[1;33m(\u001b[0m\u001b[0minitconcs\u001b[0m\u001b[1;33m,\u001b[0m \u001b[0mtend\u001b[0m\u001b[1;33m,\u001b[0m \u001b[0mdelt\u001b[0m\u001b[1;33m,\u001b[0m \u001b[0mtsave\u001b[0m\u001b[1;33m)\u001b[0m\u001b[1;33m\u001b[0m\u001b[1;33m\u001b[0m\u001b[0m\n\u001b[0m\u001b[0;32m      2\u001b[0m \u001b[1;31m# show the result:\u001b[0m\u001b[1;33m\u001b[0m\u001b[1;33m\u001b[0m\u001b[0m\n\u001b[0;32m      3\u001b[0m \u001b[0mtseries\u001b[0m\u001b[1;33m.\u001b[0m\u001b[0mplot\u001b[0m\u001b[1;33m(\u001b[0m\u001b[1;33m)\u001b[0m\u001b[1;33m\u001b[0m\u001b[1;33m\u001b[0m\u001b[0m\n",
      "\u001b[1;31mSystemError\u001b[0m: CPUDispatcher(<function step_fwd at 0x00000225FFAB2D30>) returned a result with an error set"
     ]
    }
   ],
   "source": [
    "tseries = do_sim(initconcs, tend, delt, tsave)\n",
    "# show the result:\n",
    "tseries.plot()"
   ]
  }
 ],
 "metadata": {
  "kernelspec": {
   "display_name": "Python 3 (ipykernel)",
   "language": "python",
   "name": "python3"
  },
  "language_info": {
   "codemirror_mode": {
    "name": "ipython",
    "version": 3
   },
   "file_extension": ".py",
   "mimetype": "text/x-python",
   "name": "python",
   "nbconvert_exporter": "python",
   "pygments_lexer": "ipython3",
   "version": "3.9.7"
  }
 },
 "nbformat": 4,
 "nbformat_minor": 5
}
