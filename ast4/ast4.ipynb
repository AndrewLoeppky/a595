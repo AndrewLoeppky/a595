{
 "cells": [
  {
   "cell_type": "markdown",
   "id": "5e8ba64a",
   "metadata": {},
   "source": [
    "# 1D Lagrangian Particle Trajectory\n",
    "\n",
    "Andrew Loeppky\n",
    "\n",
    "EOSC 595\n",
    "Fall 21"
   ]
  },
  {
   "cell_type": "code",
   "execution_count": 1,
   "id": "94997c82",
   "metadata": {},
   "outputs": [],
   "source": [
    "import numpy as np\n",
    "import matplotlib.pyplot as plt"
   ]
  },
  {
   "cell_type": "code",
   "execution_count": 2,
   "id": "42c8a28e",
   "metadata": {},
   "outputs": [],
   "source": [
    "# Homework, Write your own 1-D Lagrangian particle dispersion model\n",
    "# R. Stull,  22 Feb 2016\n",
    "# ES = equation number in BAMS supplementary material by Stein et al (Dec 2015) on Hysplit model\n",
    "# http://journals.ametsoc.org/doi/suppl/10.1175/BAMS-D-14-00110.1/suppl_file/10.1175_bams-d-14-00110.2.pdf\n",
    "\n",
    "# Givens:\n",
    "# general\n",
    "g_by_tv = 0.0333    # g/Tv approx constant  (m s^-2 K^-1)\n",
    "rho_cp = 1231.      # air density times specific heat at const press, approx as constant. (W/m2)/(K m/s)\n",
    "\n",
    "# unstable pbl\n",
    "Hsfc = 280.             # surface heat flux (W/m2)\n",
    "FHsfc = Hsfc / rho_cp   # kinematic heat flux (K m/s) at the surface\n",
    "zi = 1000.              # mixed-layer depth for unstable pbl (m)\n",
    "tlvert = 200.           # lagrangian time scale for vertical motions for unstable pbl (s)\n",
    "\n",
    "# plume info\n",
    "nparticles = 20         # number of particles (emitted as a single burst)\n",
    "zs = 100.               # source emission height (m) for all particles\n",
    "\n",
    "# initial conditions\n",
    "t = 0.     # initial time\n",
    "it = 0.    # initial time index\n",
    "zp = zs    # initial particle height for any one particle (same for all particles)\n",
    "wp = 0.    # initial W' vertical velocity value for that one particle (same for all particles)\n",
    "\n",
    "# model integration\n",
    "delt = 5.              # timestep increment (s) for each time step\n",
    "itmax = 200            # max number of timesteps"
   ]
  },
  {
   "cell_type": "markdown",
   "id": "77b96883",
   "metadata": {},
   "source": [
    "## Objective 1\n",
    "\n",
    "Create a Lagrangian model to track the vertical movement of a bunch particles released simultaneously from the same source height into a convective boundary layer.  Consider only vertical particle movement, and plot the vertical position of all the particles as a function of timestep. \n",
    " Use a vertical domain of 0 ≤ z ≤ zi, where zi is the mixed layer depth.\n",
    " No mean wind, thus no horizontal domain.  Instead, the horizontal axis in your plot is timestep index.\n",
    "\n",
    "   Use the sigma_w expression given by Stein el al (2015) eq. ES15 in their supplement, to find the\n",
    " the value of sigma_w at the particle location.\n",
    "    Use the position forecast eq (simplified Draxler eq 53).   Z(t+∆t) = Z(t) + W' * ∆t\n",
    "    Make two different experiments, with slightly different eqs for forecasting  W' :\n",
    "\n",
    " 1) Here is a simplified version of Stein et al Supplement eq. (ES4), but without the\n",
    "    sigma-gradient term (with notation the same as in that journal paper):\n",
    "  \n",
    "  $$\n",
    "  w' =  (R*w') + (\\sigma_w * \\lambda * \\sqrt{1 - R^2} )\\tag{ES4*}\n",
    "  $$\n",
    "  \n",
    "  where $R$ = autocorrelation coefficient, given by:\n",
    "  \n",
    "  $$\n",
    "  R(\\Delta t) = exp(-\\Delta t/TL_i)\\tag{ES6}\n",
    "  $$\n",
    "  \n",
    " and $\\lambda$ is a random number from a Gaussian distribution with mean of zero and st.dev of 1. Vertical velocity variance is given by\n",
    "\n",
    "$$\n",
    "\\sigma_w^2 = w_*^2 (z/z_i)^\\frac{2}{3} (1 - z/z_i)^\\frac{2}{3} \\left[1 + 0.5(H_{PBL}/H_{SFC})^\\frac{2}{3}\\right] \\tag{ES15}\n",
    "$$\n",
    "\n",
    "and Deardorff velocity $w_*$ by\n",
    "\n",
    "$$\n",
    "w_* = \\left[\\frac{|g|}{T_v}\\cdot z_i \\cdot F_{Hsfc}\\right]^\\frac{1}{3}\\tag{Stull 18.19}\n",
    "$$"
   ]
  },
  {
   "cell_type": "code",
   "execution_count": 3,
   "id": "8e96085e",
   "metadata": {},
   "outputs": [],
   "source": [
    "# Hint 1: for unstable pbl, use w* = Deardorff velocity from Stull Practical Meteor, eq (18.19a)\n",
    "w_star = (g_by_tv * zi * FHsfc) ** (1 / 3)\n",
    "\n",
    "# As per supplement Hpbl / Hsfc is ~ constant\n",
    "Hpbl_by_Hsfc = 0.2\n",
    "\n",
    "# ES15\n",
    "def get_sigma_w2(z):\n",
    "    \"\"\"\n",
    "    given height z, returns turbulent vertical velocity variance \n",
    "    as per BAMS ES15\n",
    "    \n",
    "    note this function relies on global vars defined above\n",
    "    \"\"\"\n",
    "    sigma_w2 = (\n",
    "        w_star ** 2\n",
    "        * (z / zi) ** (2 / 3)\n",
    "        * (1 - z / zi) ** (2 / 3)\n",
    "        * (1 + 0.5 * (Hpbl_by_Hsfc) ** (2 / 3))\n",
    "    )\n",
    "    return sigma_w2\n",
    "\n",
    "# ES6 \n",
    "R = np.exp(-delt / tlvert)"
   ]
  },
  {
   "cell_type": "code",
   "execution_count": 4,
   "id": "0d5d036c",
   "metadata": {},
   "outputs": [],
   "source": [
    "#### Set up Grids ####\n",
    "\n",
    "# initialize grid (\"nparticles\" particles, \"itmax\" timesteps)\n",
    "# this is the height of each particle at time \"tstep\"\n",
    "grid = np.zeros((nparticles, itmax + 1))\n",
    "time = np.arange(0, itmax * delt + 1, delt)\n",
    "\n",
    "# initialize normalized turbulent velocity field lambda\n",
    "np.random.seed(1234) # pin the rng values\n",
    "lam_grid = np.random.default_rng().normal(0, 1, size=(nparticles, itmax + 1))\n",
    "\n",
    "# set all initial positions to source height\n",
    "grid[:,0] = zs "
   ]
  },
  {
   "cell_type": "code",
   "execution_count": 5,
   "id": "4a0cc259",
   "metadata": {},
   "outputs": [],
   "source": [
    "#### Run the Simulation ####\n",
    "\n",
    "for tstep in range(itmax):\n",
    "    # get velocity variance at prev height (ES15)\n",
    "    sigma_w = (get_sigma_w2(grid[:,tstep])) ** 0.5\n",
    "\n",
    "    # calculate wp for current step (ES4*)\n",
    "    # (initial value must be wp=0)\n",
    "    wp = (wp * R) + sigma_w * lam_grid[:,tstep] * (1 - R ** 2) ** 0.5\n",
    "    \n",
    "    # step forward and calculate z(t+det)\n",
    "    znew = grid[:,tstep] + wp * delt\n",
    "    \n",
    "    # reflect particles off the floor and ceiling\n",
    "    znew[znew > zi] = grid[:,tstep][znew > zi] - wp[znew > zi] * delt\n",
    "    znew[znew <= 0] = grid[:,tstep][znew < 0] - wp[znew < 0] * delt\n",
    "    \n",
    "    grid[:,tstep + 1] = znew"
   ]
  },
  {
   "cell_type": "code",
   "execution_count": 6,
   "id": "bcc4acaa",
   "metadata": {},
   "outputs": [
    {
     "data": {
      "image/png": "[encoded data removed]",
      "text/plain": [
       "<Figure size 432x288 with 1 Axes>"
      ]
     },
     "metadata": {
      "needs_background": "light"
     },
     "output_type": "display_data"
    }
   ],
   "source": [
    "\n",
    "#for n in range(nparticles):\n",
    "#    plt.plot(time, grid[n])\n",
    "#plt.xlabel(\"Time (s)\")\n",
    "#plt.ylabel(\"Height (m)\")\n",
    "#plt.title(f\"1D Lagrangian Particle Trajectory, {nparticles} Particles\");"
   ]
  },
  {
   "cell_type": "markdown",
   "id": "48ff701c",
   "metadata": {},
   "source": [
    "## Objective 2\n",
    "\n",
    "Same as (1), but with the additional $\\sigma_w$ gradient term  $\\frac{d\\sigma_w}{dz}$  included:\n",
    "\n",
    "$$\n",
    "w' =  (Rw') + (\\sigma_w \\cdot \\lambda \\cdot \\sqrt{1 - R^2}) + (\\sigma_w \\cdot TL \\cdot (1-R) \\cdot \\frac{d\\sigma_w}{dz} )\n",
    "$$\n",
    "\n",
    "First we need $\\frac{d\\sigma_w}{dz}$:\n",
    "\n",
    "$$\n",
    "\\sigma_w = \\sqrt{w_*^2 (z/z_i)^\\frac{2}{3} (1 - z/z_i)^\\frac{2}{3} \\left[1 + 0.5(H_{PBL}/H_{SFC})^\\frac{2}{3}\\right] }\\tag{ES15*}\n",
    "$$\n",
    "\n",
    "Do the derivative (I used wolfram alpha):\n",
    "\n",
    "$$\n",
    "\\frac{d\\sigma_w}{dz} = w_*\\left[1 + 0.5(H_{PBL}/H_{SFC})^\\frac{2}{3}\\right]^{\\frac{1}{2}}\\frac{z_i - 2z}{3z^{2/3}z_i^{4/3}\\left(1-\\frac{z}{z_i}\\right)^{2/3}}\n",
    "$$"
   ]
  },
  {
   "cell_type": "code",
   "execution_count": 7,
   "id": "12ed1c71",
   "metadata": {},
   "outputs": [],
   "source": [
    "#### Clear Grids ####\n",
    "\n",
    "grid = np.zeros((nparticles, itmax + 1))\n",
    "np.random.seed(1234) # pin the rng values\n",
    "lam_grid = np.random.default_rng().normal(0, 1, size=(nparticles, itmax + 1))\n",
    "grid[:,0] = zs "
   ]
  },
  {
   "cell_type": "code",
   "execution_count": 8,
   "id": "52792338",
   "metadata": {},
   "outputs": [],
   "source": [
    "def get_dsigdz(z):\n",
    "    \"\"\"\n",
    "    given height z, returns derivative of turbulent vertical \n",
    "    velocity variance as per BAMS ES15 (modified)\n",
    "    \n",
    "    note this function relies on global vars defined above\n",
    "    \"\"\"\n",
    "    prefactor = w_star * (1 + 0.5 * (Hpbl_by_Hsfc) ** (2 / 3)) ** 0.5\n",
    "    deriv = (zi - 2 * z) / (3 * z ** (2 / 3) * zi ** (4/3) * (1 - z / zi) ** (2 / 3))\n",
    "    return prefactor * deriv"
   ]
  },
  {
   "cell_type": "code",
   "execution_count": 9,
   "id": "531d0e45",
   "metadata": {},
   "outputs": [],
   "source": [
    "#### Run the Simulation with new w' equation ####\n",
    "\n",
    "for tstep in range(itmax):\n",
    "    # get velocity variance at prev height (ES15)\n",
    "    sigma_w = (get_sigma_w2(grid[:,tstep])) ** 0.5\n",
    "\n",
    "    # get deriv of sigma_w\n",
    "    dsigdz = get_dsigdz(grid[:,tstep])\n",
    "    \n",
    "    # calculate wp for current step (ES4*) \n",
    "    ######## NEW TERM ADDED HERE #########\n",
    "    # (initial value must be wp=0)\n",
    "    wp = (wp * R) \\\n",
    "         + sigma_w * lam_grid[:,tstep] * (1 - R ** 2) ** 0.5 \\\n",
    "         + (sigma_w * tlvert * (1 - R) * dsigdz)\n",
    "    \n",
    "    # step forward and calculate z(t+det)\n",
    "    znew = grid[:,tstep] + wp * delt\n",
    "    \n",
    "    # reflect particles off the floor and ceiling\n",
    "    znew[znew > zi] = grid[:,tstep][znew > zi] - wp[znew > zi] * delt\n",
    "    znew[znew < 0] = grid[:,tstep][znew < 0] - wp[znew < 0] * delt\n",
    "    \n",
    "    grid[:,tstep + 1] = znew"
   ]
  },
  {
   "cell_type": "code",
   "execution_count": 11,
   "id": "4eeb193b",
   "metadata": {},
   "outputs": [],
   "source": [
    "#for n in range(nparticles):\n",
    "#    plt.plot(time, grid[n]);\n",
    "#plt.xlabel(\"Time (s)\")\n",
    "#plt.ylabel(\"Height (m)\")\n",
    "#plt.title(f\"1D Lagrangian Particle Trajectory, {nparticles} Particles\");"
   ]
  },
  {
   "cell_type": "markdown",
   "id": "9d1d8429",
   "metadata": {},
   "source": [
    "## Discussion\n",
    "\n",
    "*Because of the way vertical turbulence is parameterized (maximum in the center of the ML and vanishing at the boundaries), we see in both models that the fastest travel occurs in the center of the domain - trajectories are generally steeper in the middle of the plot, and particles tend to linger at the edges for longer. In the first plot, this happens to a degree where it becomes problematic; particles very near the edges of the domain become trapped there, as their velocities vanish with proximity to $z=0$ or $z=z_i$. The extra term bolsters the transport velocity at the ground and $z_i$, which encourages particles to \"escape\" back into the center of the ML.*\n",
    "\n",
    "*My question is: If ES15 so obviously causes the model to fail, why not just select from any of the many other available parameterizations for $w'$, instead of applying a patch that depends on the gradient of $\\sigma$? The physical interpretation/significance of the \"patch term\" is lost on me...*"
   ]
  }
 ],
 "metadata": {
  "kernelspec": {
   "display_name": "Python 3 (ipykernel)",
   "language": "python",
   "name": "python3"
  },
  "language_info": {
   "codemirror_mode": {
    "name": "ipython",
    "version": 3
   },
   "file_extension": ".py",
   "mimetype": "text/x-python",
   "name": "python",
   "nbconvert_exporter": "python",
   "pygments_lexer": "ipython3",
   "version": "3.9.7"
  }
 },
 "nbformat": 4,
 "nbformat_minor": 5
}
